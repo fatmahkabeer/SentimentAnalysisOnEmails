{
 "metadata": {
  "language_info": {
   "codemirror_mode": {
    "name": "ipython",
    "version": 3
   },
   "file_extension": ".py",
   "mimetype": "text/x-python",
   "name": "python",
   "nbconvert_exporter": "python",
   "pygments_lexer": "ipython3",
   "version": "3.8.6-final"
  },
  "orig_nbformat": 2,
  "kernelspec": {
   "name": "python3",
   "display_name": "Python 3",
   "language": "python"
  }
 },
 "nbformat": 4,
 "nbformat_minor": 2,
 "cells": [
  {
   "cell_type": "code",
   "execution_count": 3,
   "metadata": {},
   "outputs": [],
   "source": [
    "#Importing required libraries\n",
    "\n",
    "import pandas as pd\n",
    "\n",
    "#Decision tree classifier from the sklearn library.\n",
    "from sklearn.tree import DecisionTreeClassifier\n",
    "from sklearn.metrics import accuracy_score\n",
    "\n",
    "#Logistic Regression from the sklearn library.\n",
    "from sklearn.linear_model import LogisticRegression\n",
    "\n"
   ]
  },
  {
   "cell_type": "code",
   "execution_count": 4,
   "metadata": {},
   "outputs": [],
   "source": [
    "class DecisionTreeModel:\n",
    "\n",
    "    def __init__(self, df):\n",
    "        self.df = df\n",
    "\n",
    "    def model(self, X_train_pad, Y_train_f, X_val_pad, Y_val_f):\n",
    "\n",
    "        clf = DecisionTreeClassifier(criterion = 'entropy')\n",
    "        \n",
    "        #Training the decision tree classifier. \n",
    "        clf.fit(X_train_pad, Y_train_f)\n",
    "\n",
    "        #Predicting labels on the test set.\n",
    "        y_pred =  clf.predict(X_val_pad)\n",
    "\n",
    "\n",
    "        x = ('Accuracy Score on train data: ', accuracy_score(y_true=Y_train_f, y_pred=clf.predict(X_train_pad)))\n",
    "        y = ('Accuracy Score on test data: ', accuracy_score(y_true=Y_val_f, y_pred=y_pred))\n",
    "\n",
    "        return (x, y)"
   ]
  },
  {
   "cell_type": "code",
   "execution_count": null,
   "metadata": {},
   "outputs": [],
   "source": [
    "class LogisticRegressionModel:\n",
    "\n",
    "    def __init__(self, df):\n",
    "        self.df = df\n",
    "\n",
    "    def model(self, X_train_pad, ytrain, X_val_pad, ytest):\n",
    "\n",
    "        logreg = LogisticRegression()\n",
    "\n",
    "        \n",
    "        #Training the logistic regression classifier. \n",
    "        logreg.fit(X_train_pad, ytrain)\n",
    "\n",
    "        #Predicting labels on the test set.\n",
    "        y_pred =  logreg.predict(X_val_pad)\n",
    "\n",
    "\n",
    "        x = ('Accuracy Score on train data: ', accuracy_score(y_true=ytrain, y_pred=logreg.predict(X_train_pad)))\n",
    "        y = ('Accuracy Score on test data: ', accuracy_score(y_true=ytest, y_pred=y_pred))\n",
    "        \n",
    "        return (x, y)"
   ]
  }
 ]
}