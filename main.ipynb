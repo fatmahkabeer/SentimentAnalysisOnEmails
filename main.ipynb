{
 "metadata": {
  "language_info": {
   "codemirror_mode": {
    "name": "ipython",
    "version": 3
   },
   "file_extension": ".py",
   "mimetype": "text/x-python",
   "name": "python",
   "nbconvert_exporter": "python",
   "pygments_lexer": "ipython3",
   "version": "3.8.6-final"
  },
  "orig_nbformat": 2,
  "kernelspec": {
   "name": "python3",
   "display_name": "Python 3",
   "language": "python"
  }
 },
 "nbformat": 4,
 "nbformat_minor": 2,
 "cells": [
  {
   "cell_type": "code",
   "execution_count": 1,
   "metadata": {},
   "outputs": [],
   "source": [
    "#import libraries\n",
    "from DiscoverData import DiscovData\n",
    "from DataPreparation import DataPreparation\n",
    "\n",
    "from DLModeling import Modeling\n",
    "from MLModeling import DecisionTreeModel\n",
    "from MLModeling import LogisticRegressionModel\n",
    "\n",
    "import pandas as pd # For DataFrame and handling\n",
    "import seaborn as sns # High level plotting\n",
    "\n",
    "#to split the dataset into random train and test subsets\n",
    "from sklearn.model_selection import train_test_split\n",
    "\n",
    "#NLP\n",
    "import nltk\n",
    "#from textblob import TextBlob\n",
    "\n",
    "#Keras\n",
    "import keras\n",
    "from  keras.preprocessing.text import Tokenizer\n",
    "from keras.preprocessing.sequence import pad_sequences\n",
    "from keras.utils import to_categorical\n",
    "\n",
    "#Modeling\n",
    "from keras.models import Sequential\n",
    "from keras.layers import LSTM,Bidirectional,Dense,Embedding,Dropout\n",
    " "
   ]
  },
  {
   "cell_type": "code",
   "execution_count": 2,
   "metadata": {},
   "outputs": [],
   "source": [
    "#Loading data\n",
    "#https://www.kaggle.com/wcukierski/enron-email-dataset\n",
    "emails = pd.read_csv('emails.csv', skiprows=lambda x:x%9)\n"
   ]
  },
  {
   "cell_type": "code",
   "execution_count": 3,
   "metadata": {},
   "outputs": [
    {
     "output_type": "stream",
     "name": "stdout",
     "text": [
      "Message-ID: <7391389.1075855378477.JavaMail.evans@thyme>\nDate: Fri, 4 May 2001 11:26:00 -0700 (PDT)\nFrom: phillip.allen@enron.com\nTo: tim.heizenrader@enron.com\nSubject: \nMime-Version: 1.0\nContent-Type: text/plain; charset=us-ascii\nContent-Transfer-Encoding: 7bit\nX-From: Phillip K Allen\nX-To: Tim Heizenrader <Tim Heizenrader/Enron@EnronXGate>\nX-cc: \nX-bcc: \nX-Folder: \\Phillip_Allen_Jan2002_1\\Allen, Phillip K.\\'Sent Mail\nX-Origin: Allen-P\nX-FileName: pallen (Non-Privileged).pst\n\nTim,\n\nmike grigsby is having problems with accessing the west power site.  Can you please make sure he has an active password.  \n\nThank you,\n\nPhillip\n"
     ]
    }
   ],
   "source": [
    "#to see how emails look like\n",
    "print(emails['message'][1])\n",
    "\n"
   ]
  },
  {
   "cell_type": "code",
   "execution_count": 4,
   "metadata": {},
   "outputs": [],
   "source": [
    "#object of class DataPreparation\n",
    "prep = DataPreparation(emails)\n",
    "\n",
    "#to extract emails' body then add it to a new column\n",
    "emails['Email'] = prep.bodyExtraction(emails['message'])\n",
    "\n",
    "#labeling, adding label to each column.\n",
    "emails['Sentiment'] = prep.labeling(emails['Email'])\n",
    "\n",
    "#creating a separate dataset with just two columns body and sentiment\n",
    "df = prep.newData(emails['Email'], emails['Sentiment'])\n"
   ]
  },
  {
   "cell_type": "code",
   "execution_count": 5,
   "metadata": {},
   "outputs": [
    {
     "output_type": "stream",
     "name": "stdout",
     "text": [
      "<class 'pandas.core.frame.DataFrame'>\nRangeIndex: 57489 entries, 0 to 57488\nData columns (total 2 columns):\n #   Column     Non-Null Count  Dtype \n---  ------     --------------  ----- \n 0   Email      57489 non-null  object\n 1   Sentiment  57489 non-null  object\ndtypes: object(2)\nmemory usage: 898.4+ KB\n"
     ]
    }
   ],
   "source": [
    "df.info()"
   ]
  },
  {
   "cell_type": "code",
   "execution_count": 6,
   "metadata": {},
   "outputs": [
    {
     "output_type": "stream",
     "name": "stdout",
     "text": [
      "Tim,\n\nmike grigsby is having problems with accessing the west power site.  Can you please make sure he has an active password.  \n\nThank you,\n\nPhillip\n"
     ]
    }
   ],
   "source": [
    "#after extracting the body\n",
    "print(df['Email'][1])"
   ]
  },
  {
   "cell_type": "code",
   "execution_count": 7,
   "metadata": {},
   "outputs": [],
   "source": [
    "#split into train test sets\n",
    "X = df['Email'] #Extracting data attributes\n",
    "y = df['Sentiment'] # Extracting target/class labels\n",
    "X_train, X_test, y_train, y_test = train_test_split(X, y, test_size=0.25)\n"
   ]
  },
  {
   "cell_type": "code",
   "execution_count": 8,
   "metadata": {},
   "outputs": [],
   "source": [
    "# Create an object of DiscovData class inside DiscoverData.py file.\n",
    "dis = DiscovData(df)"
   ]
  },
  {
   "cell_type": "code",
   "execution_count": 9,
   "metadata": {},
   "outputs": [
    {
     "output_type": "execute_result",
     "data": {
      "text/plain": [
       "normal      16477\n",
       "joy         12845\n",
       "anger        8464\n",
       "sadness      4337\n",
       "fear          625\n",
       "love          187\n",
       "surprise      181\n",
       "Name: Sentiment, dtype: int64"
      ]
     },
     "metadata": {},
     "execution_count": 9
    }
   ],
   "source": [
    "# To figure out the target distribution\n",
    "dis.targDistribut(y_train)"
   ]
  },
  {
   "cell_type": "code",
   "execution_count": 25,
   "metadata": {},
   "outputs": [
    {
     "output_type": "error",
     "ename": "NameError",
     "evalue": "name 'plt' is not defined",
     "traceback": [
      "\u001b[0;31m---------------------------------------------------------------------------\u001b[0m",
      "\u001b[0;31mNameError\u001b[0m                                 Traceback (most recent call last)",
      "\u001b[0;32m<ipython-input-25-c2c68d8e9f4c>\u001b[0m in \u001b[0;36m<module>\u001b[0;34m\u001b[0m\n\u001b[1;32m      1\u001b[0m \u001b[0;31m# to plot training and testing data\u001b[0m\u001b[0;34m\u001b[0m\u001b[0;34m\u001b[0m\u001b[0;34m\u001b[0m\u001b[0m\n\u001b[0;32m----> 2\u001b[0;31m \u001b[0mdis\u001b[0m\u001b[0;34m.\u001b[0m\u001b[0msentimentPlolt\u001b[0m\u001b[0;34m(\u001b[0m\u001b[0my_train\u001b[0m\u001b[0;34m,\u001b[0m \u001b[0my_test\u001b[0m\u001b[0;34m)\u001b[0m\u001b[0;34m\u001b[0m\u001b[0;34m\u001b[0m\u001b[0m\n\u001b[0m",
      "\u001b[0;32m~/Desktop/DataScience/SentimentAnalysisOnEmails/DiscoverData.py\u001b[0m in \u001b[0;36msentimentPlolt\u001b[0;34m(self, y_train, y_test)\u001b[0m\n\u001b[1;32m     21\u001b[0m         \u001b[0msentimentTotal\u001b[0m \u001b[0;34m=\u001b[0m \u001b[0;34m[\u001b[0m\u001b[0my_train\u001b[0m\u001b[0;34m,\u001b[0m\u001b[0my_test\u001b[0m\u001b[0;34m]\u001b[0m\u001b[0;34m\u001b[0m\u001b[0;34m\u001b[0m\u001b[0m\n\u001b[1;32m     22\u001b[0m \u001b[0;34m\u001b[0m\u001b[0m\n\u001b[0;32m---> 23\u001b[0;31m         \u001b[0mfig\u001b[0m\u001b[0;34m,\u001b[0m\u001b[0max\u001b[0m \u001b[0;34m=\u001b[0m \u001b[0mplt\u001b[0m\u001b[0;34m.\u001b[0m\u001b[0msubplots\u001b[0m\u001b[0;34m(\u001b[0m\u001b[0;36m1\u001b[0m\u001b[0;34m,\u001b[0m\u001b[0;36m2\u001b[0m\u001b[0;34m,\u001b[0m\u001b[0mfigsize\u001b[0m\u001b[0;34m=\u001b[0m\u001b[0;34m(\u001b[0m\u001b[0;36m20\u001b[0m\u001b[0;34m,\u001b[0m\u001b[0;36m5\u001b[0m\u001b[0;34m)\u001b[0m\u001b[0;34m)\u001b[0m\u001b[0;34m\u001b[0m\u001b[0;34m\u001b[0m\u001b[0m\n\u001b[0m\u001b[1;32m     24\u001b[0m         \u001b[0;32mfor\u001b[0m \u001b[0mi\u001b[0m\u001b[0;34m,\u001b[0m\u001b[0mdata\u001b[0m \u001b[0;32min\u001b[0m \u001b[0menumerate\u001b[0m\u001b[0;34m(\u001b[0m\u001b[0msentimentTotal\u001b[0m\u001b[0;34m)\u001b[0m\u001b[0;34m:\u001b[0m\u001b[0;34m\u001b[0m\u001b[0;34m\u001b[0m\u001b[0m\n\u001b[1;32m     25\u001b[0m             \u001b[0msns\u001b[0m\u001b[0;34m.\u001b[0m\u001b[0mcountplot\u001b[0m\u001b[0;34m(\u001b[0m\u001b[0mdata\u001b[0m\u001b[0;34m,\u001b[0m\u001b[0max\u001b[0m\u001b[0;34m=\u001b[0m\u001b[0max\u001b[0m\u001b[0;34m[\u001b[0m\u001b[0mi\u001b[0m\u001b[0;34m]\u001b[0m\u001b[0;34m)\u001b[0m\u001b[0;34m\u001b[0m\u001b[0;34m\u001b[0m\u001b[0m\n",
      "\u001b[0;31mNameError\u001b[0m: name 'plt' is not defined"
     ]
    }
   ],
   "source": [
    "# to plot training and testing data \n",
    "dis.sentimentPlolt(y_train, y_test)"
   ]
  },
  {
   "cell_type": "code",
   "execution_count": 10,
   "metadata": {},
   "outputs": [
    {
     "output_type": "execute_result",
     "data": {
      "text/plain": [
       "Email        0\n",
       "Sentiment    0\n",
       "dtype: int64"
      ]
     },
     "metadata": {},
     "execution_count": 10
    }
   ],
   "source": [
    "# to find missing values:\n",
    "dis.isNan()"
   ]
  },
  {
   "cell_type": "code",
   "execution_count": 37,
   "metadata": {},
   "outputs": [
    {
     "output_type": "execute_result",
     "data": {
      "text/plain": [
       "                                               Email Sentiment\n",
       "0  1. login:  pallen pw: ke9davis\\n\\n I don't thi...    normal\n",
       "1  Tim,\\n\\nmike grigsby is having problems with a...   sadness\n",
       "2  ---------------------- Forwarded by Phillip K ...     anger\n",
       "3  ---------------------- Forwarded by Phillip K ...    normal\n",
       "4  Jeff,\\n\\n I need to see the site plan for Burn...       joy"
      ],
      "text/html": "<div>\n<style scoped>\n    .dataframe tbody tr th:only-of-type {\n        vertical-align: middle;\n    }\n\n    .dataframe tbody tr th {\n        vertical-align: top;\n    }\n\n    .dataframe thead th {\n        text-align: right;\n    }\n</style>\n<table border=\"1\" class=\"dataframe\">\n  <thead>\n    <tr style=\"text-align: right;\">\n      <th></th>\n      <th>Email</th>\n      <th>Sentiment</th>\n    </tr>\n  </thead>\n  <tbody>\n    <tr>\n      <th>0</th>\n      <td>1. login:  pallen pw: ke9davis\\n\\n I don't thi...</td>\n      <td>normal</td>\n    </tr>\n    <tr>\n      <th>1</th>\n      <td>Tim,\\n\\nmike grigsby is having problems with a...</td>\n      <td>sadness</td>\n    </tr>\n    <tr>\n      <th>2</th>\n      <td>---------------------- Forwarded by Phillip K ...</td>\n      <td>anger</td>\n    </tr>\n    <tr>\n      <th>3</th>\n      <td>---------------------- Forwarded by Phillip K ...</td>\n      <td>normal</td>\n    </tr>\n    <tr>\n      <th>4</th>\n      <td>Jeff,\\n\\n I need to see the site plan for Burn...</td>\n      <td>joy</td>\n    </tr>\n  </tbody>\n</table>\n</div>"
     },
     "metadata": {},
     "execution_count": 37
    }
   ],
   "source": [
    "# print head\n",
    "dis.firstObs()"
   ]
  },
  {
   "cell_type": "code",
   "execution_count": 38,
   "metadata": {},
   "outputs": [
    {
     "output_type": "execute_result",
     "data": {
      "text/plain": [
       "                  0\n",
       "count  4.311600e+04\n",
       "mean   1.839024e+03\n",
       "std    1.134788e+04\n",
       "min    1.000000e+00\n",
       "25%    2.850000e+02\n",
       "50%    7.740000e+02\n",
       "75%    1.762000e+03\n",
       "max    2.011422e+06"
      ],
      "text/html": "<div>\n<style scoped>\n    .dataframe tbody tr th:only-of-type {\n        vertical-align: middle;\n    }\n\n    .dataframe tbody tr th {\n        vertical-align: top;\n    }\n\n    .dataframe thead th {\n        text-align: right;\n    }\n</style>\n<table border=\"1\" class=\"dataframe\">\n  <thead>\n    <tr style=\"text-align: right;\">\n      <th></th>\n      <th>0</th>\n    </tr>\n  </thead>\n  <tbody>\n    <tr>\n      <th>count</th>\n      <td>4.311600e+04</td>\n    </tr>\n    <tr>\n      <th>mean</th>\n      <td>1.839024e+03</td>\n    </tr>\n    <tr>\n      <th>std</th>\n      <td>1.134788e+04</td>\n    </tr>\n    <tr>\n      <th>min</th>\n      <td>1.000000e+00</td>\n    </tr>\n    <tr>\n      <th>25%</th>\n      <td>2.850000e+02</td>\n    </tr>\n    <tr>\n      <th>50%</th>\n      <td>7.740000e+02</td>\n    </tr>\n    <tr>\n      <th>75%</th>\n      <td>1.762000e+03</td>\n    </tr>\n    <tr>\n      <th>max</th>\n      <td>2.011422e+06</td>\n    </tr>\n  </tbody>\n</table>\n</div>"
     },
     "metadata": {},
     "execution_count": 38
    }
   ],
   "source": [
    "#statistics:\n",
    "dis.discoverData(X_train)"
   ]
  },
  {
   "cell_type": "code",
   "execution_count": 11,
   "metadata": {},
   "outputs": [],
   "source": [
    "#Sentiment Analysis Preparing \n",
    "#Using The tokenizer Class to convert the sentences into word vectors\n",
    "\n",
    "tokenizer=Tokenizer(199431,lower=True,oov_token='UNK')\n",
    "tokenizer.fit_on_texts(X_train)\n",
    "len(tokenizer.word_index)\n",
    "\n",
    "# training preparation:\n",
    "Xtrain =  tokenizer.texts_to_sequences(X_train)\n",
    "X_train_pad = pad_sequences(Xtrain, maxlen=80,padding='post')\n",
    "ytrain = y_train.replace({'joy':0,'anger':1,'love':2,'sadness':3,'fear':4,'surprise':5, 'normal':6})\n",
    "Ytrain= ytrain.values\n",
    "\n",
    "#One hot Encoding the Emotion Values\n",
    "Y_train_f=to_categorical(Ytrain) #Converts a class vector (integers) to binary class matrix.\n",
    "\n",
    "# valedation preparation:\n",
    "ytest= y_test.replace({'joy':0,'anger':1,'love':2,'sadness':3,'fear':4,'surprise':5, 'normal':6})\n",
    "X_val_f=tokenizer.texts_to_sequences(X_test)\n",
    "X_val_pad=pad_sequences(X_val_f,maxlen=80,padding='post')\n",
    "Y_val_f=to_categorical(ytest)"
   ]
  },
  {
   "cell_type": "code",
   "execution_count": 12,
   "metadata": {},
   "outputs": [
    {
     "output_type": "stream",
     "name": "stdout",
     "text": [
      "Model: \"sequential\"\n",
      "_________________________________________________________________\n",
      "Layer (type)                 Output Shape              Param #   \n",
      "=================================================================\n",
      "embedding (Embedding)        (None, 48506, 64)         12798272  \n",
      "_________________________________________________________________\n",
      "dropout (Dropout)            (None, 48506, 64)         0         \n",
      "_________________________________________________________________\n",
      "bidirectional (Bidirectional (None, 48506, 160)        92800     \n",
      "_________________________________________________________________\n",
      "bidirectional_1 (Bidirection (None, 320)               410880    \n",
      "_________________________________________________________________\n",
      "dense (Dense)                (None, 7)                 2247      \n",
      "=================================================================\n",
      "Total params: 13,304,199\n",
      "Trainable params: 13,304,199\n",
      "Non-trainable params: 0\n",
      "_________________________________________________________________\n",
      "None\n",
      "WARNING:tensorflow:Model was constructed with shape (None, 48506) for input KerasTensor(type_spec=TensorSpec(shape=(None, 48506), dtype=tf.float32, name='embedding_input'), name='embedding_input', description=\"created by layer 'embedding_input'\"), but it was called on an input with incompatible shape (None, 80).\n",
      "WARNING:tensorflow:Model was constructed with shape (None, 48506) for input KerasTensor(type_spec=TensorSpec(shape=(None, 48506), dtype=tf.float32, name='embedding_input'), name='embedding_input', description=\"created by layer 'embedding_input'\"), but it was called on an input with incompatible shape (None, 80).\n",
      "1348/1348 [==============================] - ETA: 0s - loss: 1.1394 - accuracy: 0.5374WARNING:tensorflow:Model was constructed with shape (None, 48506) for input KerasTensor(type_spec=TensorSpec(shape=(None, 48506), dtype=tf.float32, name='embedding_input'), name='embedding_input', description=\"created by layer 'embedding_input'\"), but it was called on an input with incompatible shape (None, 80).\n",
      "1348/1348 [==============================] - 694s 508ms/step - loss: 1.1393 - accuracy: 0.5375 - val_loss: 0.8061 - val_accuracy: 0.7159\n"
     ]
    }
   ],
   "source": [
    "#Deep Learning\n",
    "dModel = Modeling(df)\n",
    "history = dModel.LSTM( X_train_pad,Y_train_f, X_val_pad,Y_val_f)\n"
   ]
  },
  {
   "cell_type": "code",
   "execution_count": 24,
   "metadata": {},
   "outputs": [
    {
     "output_type": "stream",
     "name": "stdout",
     "text": [
      "The emotion predicted is normal\n"
     ]
    }
   ],
   "source": [
    "dModel.predict(tokenizer, str(input('Enter a sentence : ')))"
   ]
  },
  {
   "cell_type": "code",
   "execution_count": 18,
   "metadata": {},
   "outputs": [
    {
     "output_type": "execute_result",
     "data": {
      "text/plain": [
       "(('Accuracy Score on train data: ', 0.9687818907134242),\n",
       " ('Accuracy Score on test data: ', 0.527586446809991))"
      ]
     },
     "metadata": {},
     "execution_count": 18
    }
   ],
   "source": [
    "#Machain Learning\n",
    "mModelDT = DecisionTreeModel(df)\n",
    "mModelDT.model(X_train_pad, Y_train_f, X_val_pad, Y_val_f)"
   ]
  },
  {
   "cell_type": "code",
   "execution_count": 19,
   "metadata": {},
   "outputs": [
    {
     "output_type": "execute_result",
     "data": {
      "text/plain": [
       "(('Accuracy Score on train data: ', 0.4023796270526023),\n",
       " ('Accuracy Score on test data: ', 0.4001252348152787))"
      ]
     },
     "metadata": {},
     "execution_count": 19
    }
   ],
   "source": [
    "mModelLR = LogisticRegressionModel(df)\n",
    "mModelLR.model(X_train_pad, ytrain, X_val_pad, ytest)"
   ]
  },
  {
   "cell_type": "code",
   "execution_count": null,
   "metadata": {},
   "outputs": [],
   "source": []
  }
 ]
}