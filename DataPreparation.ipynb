{
 "metadata": {
  "language_info": {
   "codemirror_mode": {
    "name": "ipython",
    "version": 3
   },
   "file_extension": ".py",
   "mimetype": "text/x-python",
   "name": "python",
   "nbconvert_exporter": "python",
   "pygments_lexer": "ipython3",
   "version": "3.8.6-final"
  },
  "orig_nbformat": 2,
  "kernelspec": {
   "name": "python3",
   "display_name": "Python 3",
   "language": "python"
  }
 },
 "nbformat": 4,
 "nbformat_minor": 2,
 "cells": [
  {
   "cell_type": "code",
   "execution_count": 3,
   "metadata": {},
   "outputs": [],
   "source": [
    "#%%libraries \n",
    "import email #for extract emails' body\n",
    "\n",
    "import pandas as pd # create new a data fram\n",
    "\n",
    "import re # for labeling"
   ]
  },
  {
   "cell_type": "code",
   "execution_count": 4,
   "metadata": {},
   "outputs": [],
   "source": [
    "class DataPreparation:\n",
    "\n",
    "    def __init__(self, df):\n",
    "        self.df = df\n",
    "\n",
    "    # to extract emails' body\n",
    "    #https://www.kaggle.com/sudhirrd007/data-cleaning-and-transformation\n",
    "    def bodyExtraction(self, messages):\n",
    "        column = []\n",
    "        for message in messages:\n",
    "            e = email.message_from_string(message)\n",
    "            column.append(e.get_payload())\n",
    "        return column\n",
    "\n",
    "\n",
    "    # to label data... \n",
    "    def labeling(self, messages):\n",
    "       \n",
    "        angerVoc = \"difficult|issues|issue|wrong|goddammit|damned|hell|bloody|arguably|full stop|drop dead|angry|sodding|attitude problem|bad|issue|worn down|painful|nauseum|incompetent|accompanied|complaint|grievance|complainant|lawsuit|protest|ugly|monstrous|makes me sick\"\n",
    "        sadnessVoc = \"insult|annoy|sorry|problems|problem|regret|sad|down|upset|miserable|feeling under the weather|I’m blue|disappointed|frightened|gloomy|hurt|anguish\"\n",
    "        fearVoc = \"concerned|fear|nervous|phobia|danger|threat|horror|panic|scare|terror|stress|tension|dismay|panic|dread\"\n",
    "        joyVoc= \"approval|attractive|happy|attracted|best|good|assure|fun|play|successful|thank|thanks|birthday|transferred|happy|nice|great|lovely|thank God|good for|pleased|Thanks|thanks\"\n",
    "        loveVoc = \"love|adore|cherish|soulmate|heart|apple of my eye|rock my world|affection|enchant|fancy|passion|sweetheart|sweetie|yearning\"\n",
    "        surpriseVoc = \"really|is that a fact?|you would not believe|surprise|never expected it\"\n",
    "\n",
    "        sentiment = []\n",
    "        for row in messages:\n",
    "            if re.findall(angerVoc, row) :         sentiment.append('anger')\n",
    "            elif re.findall(sadnessVoc, row):      sentiment.append('sadness')\n",
    "            elif re.findall(fearVoc, row):         sentiment.append('fear')\n",
    "            elif re.findall(joyVoc, row):          sentiment.append('joy')\n",
    "            elif re.findall(loveVoc, row):         sentiment.append('love')\n",
    "            elif re.findall(surpriseVoc, row):     sentiment.append('surprise')\n",
    "            \n",
    "            else:                                  sentiment.append('normal')\n",
    "        \n",
    "        return sentiment\n",
    "\n",
    "    \n",
    "    #creating a separate dataset\n",
    "    def newData(self, columnOne, columnTwo):\n",
    "        \n",
    "        Newdf = pd.DataFrame(index=range(0,len(self.df)),columns=['Email', 'Sentiment'])\n",
    "\n",
    "        for i in range(0,len(self.df)):\n",
    "            Newdf['Email'][i] = columnOne[i]\n",
    "            Newdf['Sentiment'][i] = columnTwo[i]\n",
    "\n",
    "        return Newdf"
   ]
  },
  {
   "cell_type": "code",
   "execution_count": null,
   "metadata": {},
   "outputs": [],
   "source": []
  }
 ]
}