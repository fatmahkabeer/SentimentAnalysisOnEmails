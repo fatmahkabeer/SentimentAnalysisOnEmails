{
 "metadata": {
  "language_info": {
   "codemirror_mode": {
    "name": "ipython",
    "version": 3
   },
   "file_extension": ".py",
   "mimetype": "text/x-python",
   "name": "python",
   "nbconvert_exporter": "python",
   "pygments_lexer": "ipython3",
   "version": "3.8.6-final"
  },
  "orig_nbformat": 2,
  "kernelspec": {
   "name": "python3",
   "display_name": "Python 3",
   "language": "python"
  }
 },
 "nbformat": 4,
 "nbformat_minor": 2,
 "cells": [
  {
   "cell_type": "code",
   "execution_count": 1,
   "metadata": {},
   "outputs": [],
   "source": [
    "\n",
    "import pandas as pd\n",
    "\n",
    "#to plot within notebook\n",
    "import matplotlib.pyplot as plt\n",
    "import seaborn as sns "
   ]
  },
  {
   "cell_type": "code",
   "execution_count": 2,
   "metadata": {},
   "outputs": [],
   "source": [
    "class DiscovData:\n",
    "\n",
    "    def __init__(self, df): \n",
    "        self.df = df\n",
    "\n",
    "    def targDistribut(self, y_train):\n",
    "        return y_train.value_counts()\n",
    "\n",
    "    def sentimentPlolt(self, y_train,y_test):\n",
    "        #sns.countplot(self.df.Sentiment)\n",
    "        sentimentTotal = [y_train,y_test]\n",
    "\n",
    "        fig,ax = plt.subplots(1,2,figsize=(20,5))\n",
    "        for i,data in enumerate(sentimentTotal):\n",
    "            sns.countplot(data,ax=ax[i])\n",
    "\n",
    "\n",
    "    def isNan(self):\n",
    "        return self.df.isna().sum()\n",
    "\n",
    "\n",
    "    def firstObs(self):\n",
    "        #print the head\n",
    "        return self.df.head()\n",
    "\n",
    "\n",
    "    def discoverData(self, X_train):\n",
    "        lst = []\n",
    "        for i in X_train:\n",
    "            lst.append(len(i))\n",
    "    \n",
    "    \n",
    "        len1=pd.DataFrame(lst)\n",
    "        return len1.describe()"
   ]
  },
  {
   "cell_type": "code",
   "execution_count": null,
   "metadata": {},
   "outputs": [],
   "source": []
  }
 ]
}