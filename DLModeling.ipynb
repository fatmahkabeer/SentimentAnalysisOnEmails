{
 "metadata": {
  "language_info": {
   "codemirror_mode": {
    "name": "ipython",
    "version": 3
   },
   "file_extension": ".py",
   "mimetype": "text/x-python",
   "name": "python",
   "nbconvert_exporter": "python",
   "pygments_lexer": "ipython3",
   "version": "3.8.6-final"
  },
  "orig_nbformat": 2,
  "kernelspec": {
   "name": "python3",
   "display_name": "Python 3",
   "language": "python"
  }
 },
 "nbformat": 4,
 "nbformat_minor": 2,
 "cells": [
  {
   "cell_type": "code",
   "execution_count": 1,
   "metadata": {},
   "outputs": [],
   "source": [
    "#%% import libraries\n",
    "#Modeling\n",
    "from keras.models import Sequential\n",
    "from keras.layers import LSTM,Bidirectional,Dense,Embedding,Dropout\n"
   ]
  },
  {
   "cell_type": "code",
   "execution_count": 2,
   "metadata": {},
   "outputs": [],
   "source": [
    "class Modeling:\n",
    "\n",
    "    def __init__(self, df):\n",
    "        self.df = df\n",
    "\n",
    "    def LSTM(self, X_train_pad,Y_train_f, X_val_pad,Y_val_f):\n",
    "        \n",
    "        #Creating a Model\n",
    "        self.model=Sequential()\n",
    "        # Embedded layer that uses 64 length vectors to represent each word\n",
    "        self.model.add(Embedding(199973, 64, input_length = 48506))\n",
    "        self.model.add(Dropout(0.6))\n",
    "        self.model.add(Bidirectional(LSTM(80, return_sequences=True))) \n",
    "        self.model.add(Bidirectional(LSTM(160)))\n",
    "        self.model.add(Dense(7,activation='softmax'))\n",
    "        print(self.model.summary())\n",
    "\n",
    "        #Compiling and running the model\n",
    "        #The efficient ADAM optimization algorithm is used\n",
    "        self.model.compile(optimizer='adam',loss='categorical_crossentropy',metrics=['accuracy'])\n",
    "        history = self.model.fit(X_train_pad,Y_train_f,epochs=5,validation_data=(X_val_pad,Y_val_f))\n",
    "\n",
    "        return history\n",
    "\n",
    "    @classmethod\n",
    "    def get_key(self, value):\n",
    "        dictionary={'joy':0,'anger':1,'love':2,'sadness':3,'fear':4,'surprise':5, 'normal':6}\n",
    "        for key,val in dictionary.items():\n",
    "            if (val==value):\n",
    "                return key\n",
    "         \n",
    "\n",
    "\n",
    "    def predict(self, tokenizer, email):\n",
    "        obj = Modeling\n",
    "        sentence_lst=[]\n",
    "        sentence_lst.append(email)\n",
    "        sentence_seq=tokenizer.texts_to_sequences(sentence_lst)\n",
    "        sentence_padded=pad_sequences(sentence_seq,maxlen=80,padding='post')\n",
    "        ans = obj.get_key(self.model.predict_classes(sentence_padded))\n",
    "        print(\"The emotion predicted is\",ans)\n",
    "   \n"
   ]
  }
 ]
}